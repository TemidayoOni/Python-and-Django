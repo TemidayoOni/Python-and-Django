{
  "nbformat": 4,
  "nbformat_minor": 0,
  "metadata": {
    "colab": {
      "provenance": [],
      "gpuType": "T4"
    },
    "kernelspec": {
      "name": "python3",
      "display_name": "Python 3"
    },
    "language_info": {
      "name": "python"
    },
    "accelerator": "GPU"
  },
  "cells": [
    {
      "cell_type": "code",
      "execution_count": null,
      "metadata": {
        "id": "1Ne3n8zvonnK"
      },
      "outputs": [],
      "source": [
        "# create a class to create username and password\n",
        "class Username():\n",
        "# intialize an empty dictionary to hold the username and password\n",
        "   username = []\n",
        "   password = []\n",
        "   credentials = {}\n",
        "\n",
        "   def add_user():\n",
        "     new_user = input('Enter your username:')\n",
        "     if new_user in Username.username:\n",
        "       print('The username is taken, enter y to continue or n to quit')\n",
        "       make_request = input('y to continue or n to quite')\n",
        "       if make_request == 'y':\n",
        "         return Username.add_user()\n",
        "       else:\n",
        "          exit\n",
        "\n",
        "     else:\n",
        "       Username.username.append(new_user)\n",
        "       new_password = input('Enter password')\n",
        "       Username.password.append(new_password)\n",
        "       Username.credentials[new_user] = new_password\n",
        "\n",
        "     print(Username.credentials)"
      ]
    },
    {
      "cell_type": "code",
      "source": [
        "# create a login class\n",
        "def Login():\n",
        "\n",
        "   # get username and password\n",
        "  request_username = input('Enter login username')\n",
        "  request_password = input('Enter password')\n",
        "\n",
        "  # check if username and password are valid and correct\n",
        "  if Username.credentials[request_username] == request_password:\n",
        "     print(\"You are successfully logged in to your dashboard\")\n",
        "  else:\n",
        "      print('The provided username or password are incorrect, press y to continue or n to cancel')\n",
        "      make_another_login = input('Enter y to continue login or n to exit')\n",
        "      if make_another_login == 'y':\n",
        "         Login()\n",
        "      else:\n",
        "       exit\n",
        "\n",
        "\n"
      ],
      "metadata": {
        "id": "PEtGXYAQAoL3"
      },
      "execution_count": null,
      "outputs": []
    },
    {
      "cell_type": "code",
      "source": [
        "Username.add_user()"
      ],
      "metadata": {
        "colab": {
          "base_uri": "https://localhost:8080/"
        },
        "id": "-2YA0vXIyxTh",
        "outputId": "76079a6a-e91d-403d-ae80-294ded957628"
      },
      "execution_count": null,
      "outputs": [
        {
          "output_type": "stream",
          "name": "stdout",
          "text": [
            "Enter your username:nitrogen\n",
            "Enter passwordaccess123\n",
            "{'nitrogen': 'access123'}\n"
          ]
        }
      ]
    },
    {
      "cell_type": "code",
      "source": [
        "Username.add_user()"
      ],
      "metadata": {
        "colab": {
          "base_uri": "https://localhost:8080/"
        },
        "id": "n0UN5Ocy0Qcv",
        "outputId": "52f55381-1f3a-4196-ba97-cd7000831fc3"
      },
      "execution_count": null,
      "outputs": [
        {
          "output_type": "stream",
          "name": "stdout",
          "text": [
            "Enter your username:oxygen\n",
            "Enter passwordholding123\n",
            "{'nitrogen': 'access123', 'oxygen': 'holding123'}\n"
          ]
        }
      ]
    },
    {
      "cell_type": "code",
      "source": [
        "Username.add_user()\n",
        "\n"
      ],
      "metadata": {
        "colab": {
          "base_uri": "https://localhost:8080/"
        },
        "id": "nEs_d8Ks0tMV",
        "outputId": "0e9f8de4-b444-4a1c-8212-40b760394cd0"
      },
      "execution_count": null,
      "outputs": [
        {
          "output_type": "stream",
          "name": "stdout",
          "text": [
            "Enter your username:hydrogen \n",
            "Enter passwordholdco234\n",
            "{'nitrogen': 'access123', 'oxygen': 'holding123', 'hydrogen ': 'holdco234'}\n"
          ]
        }
      ]
    },
    {
      "cell_type": "code",
      "source": [
        "Login()\n"
      ],
      "metadata": {
        "id": "FoDH4dB0Htkn",
        "colab": {
          "base_uri": "https://localhost:8080/"
        },
        "outputId": "237611e0-92ef-41f4-8752-48383a77bb65"
      },
      "execution_count": null,
      "outputs": [
        {
          "output_type": "stream",
          "name": "stdout",
          "text": [
            "Enter login usernamenitrogen\n",
            "Enter passwordaccess123\n",
            "You are successfully logged in to yoeur dashboard\n"
          ]
        }
      ]
    },
    {
      "cell_type": "code",
      "source": [],
      "metadata": {
        "id": "X_HkMC7wMzcH"
      },
      "execution_count": null,
      "outputs": []
    }
  ]
}